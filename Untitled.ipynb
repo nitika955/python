{
 "cells": [
  {
   "cell_type": "markdown",
   "metadata": {},
   "source": [
    "# jupyter markdown\n",
    "## jupyter markdown\n",
    "### jupyter markdown\n",
    "#### jupyter markdown\n",
    "##### juypter markdown\n",
    "###### jupyter markdown"
   ]
  },
  {
   "cell_type": "markdown",
   "metadata": {},
   "source": [
    "- point 1\n",
    "  \n",
    "    - **sub point 1.1**\n",
    "    - *sub point 1.2*\n",
    "    - ***sub point 1.3***\n",
    "- point 2\n",
    "- point 3"
   ]
  },
  {
   "cell_type": "markdown",
   "metadata": {},
   "source": [
    "### Python Introduction\n",
    "- python3\n",
    "- python can be used as functional programming\n",
    "- python can be used as scripting programming\n",
    "- python initially designed by **Guido Van Rossum** in 1991"
   ]
  },
  {
   "cell_type": "code",
   "execution_count": 2,
   "metadata": {},
   "outputs": [
    {
     "name": "stdout",
     "output_type": "stream",
     "text": [
      "Hello World\n",
      "Welcome to Python Programming\n"
     ]
    }
   ],
   "source": [
    "# Input and Output Function\n",
    "# Output Function \n",
    "print(\"Hello World\")\n",
    "print(\"Welcome to Python Programming\")"
   ]
  },
  {
   "cell_type": "code",
   "execution_count": 12,
   "metadata": {},
   "outputs": [
    {
     "name": "stdout",
     "output_type": "stream",
     "text": [
      "Markdown cell code cell\n"
     ]
    }
   ],
   "source": [
    "print(\"Markdown cell\",end = \" \")\n",
    "print(\"code cell\")"
   ]
  },
  {
   "cell_type": "code",
   "execution_count": 13,
   "metadata": {},
   "outputs": [
    {
     "name": "stdout",
     "output_type": "stream",
     "text": [
      "enter your name :\n",
      "  nitika\n",
      "your name is nitika\n"
     ]
    }
   ],
   "source": [
    "# input function\n",
    "print(\"enter your name :\")\n",
    "a = input('  ')\n",
    "print(\"your name is\",a)"
   ]
  }
 ],
 "metadata": {
  "kernelspec": {
   "display_name": "Python 3",
   "language": "python",
   "name": "python3"
  },
  "language_info": {
   "codemirror_mode": {
    "name": "ipython",
    "version": 3
   },
   "file_extension": ".py",
   "mimetype": "text/x-python",
   "name": "python",
   "nbconvert_exporter": "python",
   "pygments_lexer": "ipython3",
   "version": "3.7.3"
  }
 },
 "nbformat": 4,
 "nbformat_minor": 2
}
